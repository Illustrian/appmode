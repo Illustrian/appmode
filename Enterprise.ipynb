{
 "cells": [
  {
   "cell_type": "code",
   "execution_count": 1,
   "metadata": {},
   "outputs": [
    {
     "data": {
      "application/vnd.jupyter.widget-view+json": {
       "model_id": "2b4f49eed9a4475b8d6980b686a5a305",
       "version_major": 2,
       "version_minor": 0
      },
      "text/plain": [
       "VBox(children=(HBox(children=(Label(value='Enter Search Term', layout=Layout(width='30%')), Text(value='', lay…"
      ]
     },
     "metadata": {},
     "output_type": "display_data"
    },
    {
     "ename": "NameError",
     "evalue": "name 'chckbox' is not defined",
     "output_type": "error",
     "traceback": [
      "\u001b[0;31m---------------------------------------------------------------------------\u001b[0m",
      "\u001b[0;31mNameError\u001b[0m                                 Traceback (most recent call last)",
      "\u001b[0;32m<ipython-input-1-e10498a8ddd8>\u001b[0m in \u001b[0;36mon_click\u001b[0;34m(btn)\u001b[0m\n\u001b[1;32m     33\u001b[0m         \u001b[0moutput3\u001b[0m\u001b[0;34m.\u001b[0m\u001b[0mvalue\u001b[0m \u001b[0;34m=\u001b[0m \u001b[0;34m\"Both\"\u001b[0m\u001b[0;34m\u001b[0m\u001b[0;34m\u001b[0m\u001b[0m\n\u001b[1;32m     34\u001b[0m         \u001b[0moutput4\u001b[0m\u001b[0;34m.\u001b[0m\u001b[0mvalue\u001b[0m \u001b[0;34m=\u001b[0m \u001b[0;34m\"\"\u001b[0m\u001b[0;34m\u001b[0m\u001b[0;34m\u001b[0m\u001b[0m\n\u001b[0;32m---> 35\u001b[0;31m         \u001b[0;32mfor\u001b[0m \u001b[0md\u001b[0m \u001b[0;32min\u001b[0m \u001b[0mchckbox\u001b[0m\u001b[0;34m:\u001b[0m\u001b[0;34m\u001b[0m\u001b[0;34m\u001b[0m\u001b[0m\n\u001b[0m\u001b[1;32m     36\u001b[0m             \u001b[0md\u001b[0m\u001b[0;34m.\u001b[0m\u001b[0mvalue\u001b[0m \u001b[0;34m=\u001b[0m \u001b[0;32mFalse\u001b[0m\u001b[0;34m\u001b[0m\u001b[0;34m\u001b[0m\u001b[0m\n\u001b[1;32m     37\u001b[0m         \u001b[0;31m#row0.value=False\u001b[0m\u001b[0;34m\u001b[0m\u001b[0;34m\u001b[0m\u001b[0;34m\u001b[0m\u001b[0m\n",
      "\u001b[0;31mNameError\u001b[0m: name 'chckbox' is not defined"
     ]
    },
    {
     "ename": "NameError",
     "evalue": "name 'chckbox' is not defined",
     "output_type": "error",
     "traceback": [
      "\u001b[0;31m---------------------------------------------------------------------------\u001b[0m",
      "\u001b[0;31mNameError\u001b[0m                                 Traceback (most recent call last)",
      "\u001b[0;32m<ipython-input-1-e10498a8ddd8>\u001b[0m in \u001b[0;36mon_click\u001b[0;34m(btn)\u001b[0m\n\u001b[1;32m     41\u001b[0m         \u001b[0mrow4\u001b[0m\u001b[0;34m.\u001b[0m\u001b[0mvalue\u001b[0m\u001b[0;34m=\u001b[0m\u001b[0;32mFalse\u001b[0m\u001b[0;34m\u001b[0m\u001b[0;34m\u001b[0m\u001b[0m\n\u001b[1;32m     42\u001b[0m     \u001b[0;32melif\u001b[0m \u001b[0mbtn\u001b[0m\u001b[0;34m.\u001b[0m\u001b[0mdescription\u001b[0m \u001b[0;34m==\u001b[0m \u001b[0;34m\"Clear Checkboxes\"\u001b[0m\u001b[0;34m:\u001b[0m\u001b[0;34m\u001b[0m\u001b[0;34m\u001b[0m\u001b[0m\n\u001b[0;32m---> 43\u001b[0;31m         \u001b[0;32mfor\u001b[0m \u001b[0md\u001b[0m \u001b[0;32min\u001b[0m \u001b[0mchckbox\u001b[0m\u001b[0;34m:\u001b[0m\u001b[0;34m\u001b[0m\u001b[0;34m\u001b[0m\u001b[0m\n\u001b[0m\u001b[1;32m     44\u001b[0m             \u001b[0md\u001b[0m\u001b[0;34m.\u001b[0m\u001b[0mvalue\u001b[0m \u001b[0;34m=\u001b[0m \u001b[0;32mFalse\u001b[0m\u001b[0;34m\u001b[0m\u001b[0;34m\u001b[0m\u001b[0m\n\u001b[1;32m     45\u001b[0m     \u001b[0;32melse\u001b[0m\u001b[0;34m:\u001b[0m\u001b[0;34m\u001b[0m\u001b[0;34m\u001b[0m\u001b[0m\n",
      "\u001b[0;31mNameError\u001b[0m: name 'chckbox' is not defined"
     ]
    },
    {
     "ename": "NameError",
     "evalue": "name 'chckbox' is not defined",
     "output_type": "error",
     "traceback": [
      "\u001b[0;31m---------------------------------------------------------------------------\u001b[0m",
      "\u001b[0;31mNameError\u001b[0m                                 Traceback (most recent call last)",
      "\u001b[0;32m<ipython-input-1-e10498a8ddd8>\u001b[0m in \u001b[0;36mon_click\u001b[0;34m(btn)\u001b[0m\n\u001b[1;32m     41\u001b[0m         \u001b[0mrow4\u001b[0m\u001b[0;34m.\u001b[0m\u001b[0mvalue\u001b[0m\u001b[0;34m=\u001b[0m\u001b[0;32mFalse\u001b[0m\u001b[0;34m\u001b[0m\u001b[0;34m\u001b[0m\u001b[0m\n\u001b[1;32m     42\u001b[0m     \u001b[0;32melif\u001b[0m \u001b[0mbtn\u001b[0m\u001b[0;34m.\u001b[0m\u001b[0mdescription\u001b[0m \u001b[0;34m==\u001b[0m \u001b[0;34m\"Clear Checkboxes\"\u001b[0m\u001b[0;34m:\u001b[0m\u001b[0;34m\u001b[0m\u001b[0;34m\u001b[0m\u001b[0m\n\u001b[0;32m---> 43\u001b[0;31m         \u001b[0;32mfor\u001b[0m \u001b[0md\u001b[0m \u001b[0;32min\u001b[0m \u001b[0mchckbox\u001b[0m\u001b[0;34m:\u001b[0m\u001b[0;34m\u001b[0m\u001b[0;34m\u001b[0m\u001b[0m\n\u001b[0m\u001b[1;32m     44\u001b[0m             \u001b[0md\u001b[0m\u001b[0;34m.\u001b[0m\u001b[0mvalue\u001b[0m \u001b[0;34m=\u001b[0m \u001b[0;32mFalse\u001b[0m\u001b[0;34m\u001b[0m\u001b[0;34m\u001b[0m\u001b[0m\n\u001b[1;32m     45\u001b[0m     \u001b[0;32melse\u001b[0m\u001b[0;34m:\u001b[0m\u001b[0;34m\u001b[0m\u001b[0;34m\u001b[0m\u001b[0m\n",
      "\u001b[0;31mNameError\u001b[0m: name 'chckbox' is not defined"
     ]
    }
   ],
   "source": [
    "from __future__ import division\n",
    "import ipywidgets as ipw\n",
    "\n",
    "output1 = ipw.Text(layout=ipw.Layout(width=\"70%\"),  disabled=False)\n",
    "box1=ipw.HBox([ipw.Label(value=\"Enter Search Term\", layout=ipw.Layout(width='30%')),output1])\n",
    "output2 = ipw.Dropdown(options=['India', 'Brazil', 'China', 'Pakistan'],value='India',disabled=False,\n",
    "                       layout=ipw.Layout(width=\"70%\"))\n",
    "box2=ipw.HBox([ipw.Label(value='Country:', layout=ipw.Layout(width='30%')),output2])\n",
    "output3 = ipw.Dropdown(options=['Government', 'Private', 'Both'],value='Both',disabled=False,layout=ipw.Layout(width=\"70%\"))\n",
    "box3=ipw.HBox([ipw.Label(value=\"Type\", layout=ipw.Layout(width='30%')),output3])\n",
    "#box2=mk_dropdown(\"Country\",[\"India\",\"Brazil\",\"Pakistan\"],\"India\") \n",
    "#box3=mk_dropdown(\"Type\",[\"Government\",\"Private\",\"Both\"],\"Both\")\n",
    "\n",
    "output4 = ipw.Text(description = \"Output String\", layout=ipw.Layout(width=\"80%\"),  disabled=False)\n",
    "\n",
    "\n",
    "def name_link(term):\n",
    "    term = term.replace(\"%\",\"%25\")\n",
    "    term = term.replace(\"+\",\"%2B\")\n",
    "    term = term.replace(\" \",\"+\")\n",
    "    term = term.replace(\"&\",\"%26\")\n",
    "    return term\n",
    "\n",
    "def on_click(btn):\n",
    "    if btn.description == \"OK\":\n",
    "        try:\n",
    "            output4.value = \"+\".join([name_link(output1.value) , output2.value , output3.value])\n",
    "        except:\n",
    "            output4.value = \"ERROR\"\n",
    "    elif btn.description == \"Clear\":\n",
    "        output1.value = \"\"\n",
    "        output2.value = \"India\"\n",
    "        output3.value = \"Both\"\n",
    "        output4.value = \"\"\n",
    "        for d in chckbox:\n",
    "            d.value = False\n",
    "        #row0.value=False\n",
    "        #row1.value=False\n",
    "        #row2.value=False\n",
    "        #row3.value=False\n",
    "        row4.value=False\n",
    "    elif btn.description == \"Clear Checkboxes\":\n",
    "        for d in chckbox:\n",
    "            d.value = False\n",
    "    else:\n",
    "        output4.value = \"ERROR\"\n",
    "\n",
    "def mk_btn(description):\n",
    "    btn = ipw.Button(description=description, button_style='success',layout=ipw.Layout(width='20%',align_items='center',\n",
    "            justify_items='center',grid_area=description))\n",
    "    btn.on_click(on_click)\n",
    "    return btn\n",
    "\n",
    "def mk_chkbx(description):\n",
    "    chkbx = ipw.Checkbox(value=False,description=description,disabled=False)\n",
    "    return chkbx\n",
    "\n",
    "def mk_dropdown(description,options,values):\n",
    "    box=ipw.HBox([ipw.Label(value=description, layout=ipw.Layout(width='30%')),\n",
    "                   ipw.Dropdown(options=options,\n",
    "                                value=values,disabled=False,\n",
    "                                layout=ipw.Layout(width=\"70%\"))])\n",
    "    return box\n",
    "\n",
    "#row0 = ipw.Checkbox(value=False,description='Default Search',disabled=False)\n",
    "#row1 = ipw.Checkbox(value=False,description='Site Search',disabled=False)\n",
    "#row2 = ipw.Checkbox(value=False,description='Annual Report',disabled=False)\n",
    "#row3 = ipw.Checkbox(value=False,description='Sebi Search',disabled=False)\n",
    "row4 = ipw.HBox([mk_btn(d) for d in (\"OK\", \"Clear\", \"Clear Checkboxes\")], \n",
    "                layout=ipw.Layout(width='70%',grid_template_rows='\"20% 20% 20% 20% 20%\"\"',\n",
    "                                  grid_template_areas='''\". OK Clear Show Excel .\"''',\n",
    "                                  align_items='center',justify_items='center'))\n",
    "\n",
    "ip=[box1,box2,box3]\n",
    "ip.extend([mk_chkbx(d) for d in (\"Default Search\",\"Site Search\",\"Annual Report\",\"Sebi Search\")])\n",
    "ip.extend([ipw.HBox([ipw.Label(layout=ipw.Layout(width='30%')),row4]), output4])\n",
    "#ip\n",
    "\n",
    "#ip=ipw.VBox([box1, box2, box3, ipw.HBox([ipw.Label(layout=ipw.Layout(width='30%')),row4]), output4],\n",
    " #           layout=ipw.Layout(display='flex',flex_flow='column',                                                     \n",
    "  #                            align_items='stretch',border='solid',                                                               \n",
    "   #                           width='100%'))\n",
    "#chckbox=[mk_chkbx(d) for d in (\"Default Search\",\"Site Search\",\"Annual Report\",\"Sebi Search\")]\n",
    "#checkbox=ipw.VBox(chckbox,align_items='stretch',border='solid',width='100%')\n",
    "ipw.VBox(ip)"
   ]
  },
  {
   "cell_type": "code",
   "execution_count": null,
   "metadata": {},
   "outputs": [],
   "source": []
  }
 ],
 "metadata": {
  "kernelspec": {
   "display_name": "Python 3",
   "language": "python",
   "name": "python3"
  },
  "language_info": {
   "codemirror_mode": {
    "name": "ipython",
    "version": 3
   },
   "file_extension": ".py",
   "mimetype": "text/x-python",
   "name": "python",
   "nbconvert_exporter": "python",
   "pygments_lexer": "ipython3",
   "version": "3.7.1"
  }
 },
 "nbformat": 4,
 "nbformat_minor": 2
}
