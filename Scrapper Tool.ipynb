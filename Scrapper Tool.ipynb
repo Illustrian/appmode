{
 "cells": [
  {
   "cell_type": "code",
   "execution_count": 1,
   "metadata": {},
   "outputs": [
    {
     "data": {
      "application/vnd.jupyter.widget-view+json": {
       "model_id": "5b0b24a9698f42069090374472faf4fb",
       "version_major": 2,
       "version_minor": 0
      },
      "text/plain": [
       "VBox(children=(Text(value='', description='Enter URL', layout=Layout(width='90%')), HBox(children=(Button(butt…"
      ]
     },
     "metadata": {},
     "output_type": "display_data"
    }
   ],
   "source": [
    "from __future__ import division\n",
    "import ipywidgets as ipw\n",
    "from bs4 import BeautifulSoup \n",
    "import requests\n",
    "import html5lib\n",
    "import re\n",
    "from urllib.parse import urlparse\n",
    "import pandas as pd\n",
    "\n",
    "def on_click(btn):\n",
    "            \n",
    "    url = output1.value\n",
    "\n",
    "    parse_object = urlparse(url)\n",
    "    parse_object.netloc\n",
    "\n",
    "    r = requests.get(url) \n",
    "    data = r.text\n",
    "    soup = BeautifulSoup(data)\n",
    "\n",
    "    val = []\n",
    "    title=[]\n",
    "\n",
    "    table = soup.find(\"table\", { \"class\" : \"table table-striped\" })\n",
    "\n",
    "    table_body = table.find('tbody')\n",
    "    rows = table_body.find_all('tr')\n",
    "\n",
    "    for row in rows:\n",
    "        cells = row.findAll(\"td\")\n",
    "        heading = row.findAll(\"th\")\n",
    "        column=[]\n",
    "\n",
    "        for ele in cells:\n",
    "            column.extend(abc.text for abc in ele.findAll(\"h5\"))\n",
    "            try:\n",
    "                column.extend(abc.find('a').get('href') for abc in ele.findAll(\"h5\"))\n",
    "            except:\n",
    "                next\n",
    "            column.extend(abc.text for abc in ele.findAll(\"p\"))\n",
    "\n",
    "        for ele in heading:\n",
    "            title.extend(str(abc.text) for abc in ele.findAll(\"h4\"))\n",
    "\n",
    "        if column:\n",
    "            val.append(column)\n",
    "\n",
    "    title.insert(2,\"Link\")\n",
    "    df=pd.DataFrame(val,columns=title)\n",
    "\n",
    "    if btn.description == \"Ok\":\n",
    "        try:                  \n",
    "            print (df)\n",
    "        except:\n",
    "            output1.value= \"ERROR\"\n",
    "\n",
    "    elif btn.description == \"Clear\":\n",
    "        output1.value = \"\"\n",
    "\n",
    "\n",
    "    elif btn.description == \"Generate Excel\":\n",
    "        try:\n",
    "            df.to_excel(\"output.xlsx\")\n",
    "        except:\n",
    "            output1.value= \"ERROR\"       \n",
    "    else:\n",
    "            output1.value= \"ERROR\"\n",
    "\n",
    "def mk_btn(description):\n",
    "    btn = ipw.Button(description=description, button_style='success',layout=ipw.Layout(width='100%',align_items='center',\n",
    "            justify_items='center',grid_area=description))\n",
    "    btn.on_click(on_click)\n",
    "    return btn\n",
    "\n",
    "output1 = ipw.Text(description=\"Enter URL\",layout=ipw.Layout(width=\"90%\"),  disabled=False)\n",
    "\n",
    "button1 = ipw.HBox([mk_btn(d) for d in ('Ok','Clear','Generate Excel')], \n",
    "                    layout=ipw.Layout(width='70%',align_items='center',justify_items='center'))\n",
    "ipw.VBox([output1,button1])"
   ]
  },
  {
   "cell_type": "code",
   "execution_count": null,
   "metadata": {},
   "outputs": [],
   "source": []
  }
 ],
 "metadata": {
  "kernelspec": {
   "display_name": "Python 3",
   "language": "python",
   "name": "python3"
  },
  "language_info": {
   "codemirror_mode": {
    "name": "ipython",
    "version": 3
   },
   "file_extension": ".py",
   "mimetype": "text/x-python",
   "name": "python",
   "nbconvert_exporter": "python",
   "pygments_lexer": "ipython3",
   "version": "3.7.2"
  }
 },
 "nbformat": 4,
 "nbformat_minor": 2
}
